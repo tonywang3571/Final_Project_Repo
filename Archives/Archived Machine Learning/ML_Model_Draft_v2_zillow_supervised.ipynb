{
 "cells": [
  {
   "cell_type": "markdown",
   "id": "8a2a7d8e",
   "metadata": {},
   "source": [
    "# Supervised ML Model - zillow Dataset"
   ]
  },
  {
   "cell_type": "code",
   "execution_count": 1,
   "id": "f4155bb6",
   "metadata": {},
   "outputs": [],
   "source": [
    "# import dependencies\n",
    "# sklearn is the Scikit-learn machine learning library for Python\n",
    "import pandas as pd\n",
    "import numpy as np\n",
    "from datetime import datetime\n",
    "\n",
    "import sqlite3\n",
    "# Python SQL toolkit and Object Relational Mapper\n",
    "import sqlalchemy\n",
    "from sqlalchemy.ext.automap import automap_base\n",
    "from sqlalchemy.orm import Session\n",
    "from sqlalchemy import create_engine, inspect, func"
   ]
  },
  {
   "cell_type": "markdown",
   "id": "c3f4877e",
   "metadata": {},
   "source": [
    "## Explore the data"
   ]
  },
  {
   "cell_type": "code",
   "execution_count": 2,
   "id": "2abdbb0f",
   "metadata": {},
   "outputs": [],
   "source": [
    "# con = sqlite3.connect(\"finalprojectdatabase.db\")\n",
    "# zlw = pd.read_sql_query(\"SELECT * from zillow\", con)\n",
    "# zlw"
   ]
  },
  {
   "cell_type": "code",
   "execution_count": 3,
   "id": "0c5d63f3",
   "metadata": {},
   "outputs": [
    {
     "data": {
      "text/html": [
       "<div>\n",
       "<style scoped>\n",
       "    .dataframe tbody tr th:only-of-type {\n",
       "        vertical-align: middle;\n",
       "    }\n",
       "\n",
       "    .dataframe tbody tr th {\n",
       "        vertical-align: top;\n",
       "    }\n",
       "\n",
       "    .dataframe thead th {\n",
       "        text-align: right;\n",
       "    }\n",
       "</style>\n",
       "<table border=\"1\" class=\"dataframe\">\n",
       "  <thead>\n",
       "    <tr style=\"text-align: right;\">\n",
       "      <th></th>\n",
       "      <th>Address</th>\n",
       "      <th>City</th>\n",
       "      <th>Zipcode</th>\n",
       "      <th>bathrooms</th>\n",
       "      <th>bedrooms</th>\n",
       "      <th>daysOnZillow</th>\n",
       "      <th>homeType</th>\n",
       "      <th>latitude</th>\n",
       "      <th>livingArea</th>\n",
       "      <th>longitude</th>\n",
       "      <th>lotSize</th>\n",
       "      <th>date_sold</th>\n",
       "      <th>price</th>\n",
       "      <th>pricePerSquareFoot</th>\n",
       "      <th>rentZestimate</th>\n",
       "      <th>taxAssessedValue</th>\n",
       "      <th>taxAssessedYear</th>\n",
       "      <th>url</th>\n",
       "      <th>yearBuilt</th>\n",
       "    </tr>\n",
       "  </thead>\n",
       "  <tbody>\n",
       "    <tr>\n",
       "      <th>0</th>\n",
       "      <td>2860 NE Blossom Hill Rd</td>\n",
       "      <td>Fairview</td>\n",
       "      <td>97024</td>\n",
       "      <td>3.0</td>\n",
       "      <td>3.0</td>\n",
       "      <td>25.0</td>\n",
       "      <td>TOWNHOUSE</td>\n",
       "      <td>45.543571</td>\n",
       "      <td>1806.0</td>\n",
       "      <td>-122.441765</td>\n",
       "      <td>1555.0</td>\n",
       "      <td>2021-05-21</td>\n",
       "      <td>315400</td>\n",
       "      <td>175.0</td>\n",
       "      <td>1950.0</td>\n",
       "      <td>273960.0</td>\n",
       "      <td>2020-01-01</td>\n",
       "      <td>https://www.zillow.com/homedetails/2860-NE-Blo...</td>\n",
       "      <td>2007-01-01</td>\n",
       "    </tr>\n",
       "    <tr>\n",
       "      <th>1</th>\n",
       "      <td>1121 SW 10th Dr</td>\n",
       "      <td>Gresham</td>\n",
       "      <td>97080</td>\n",
       "      <td>3.0</td>\n",
       "      <td>4.0</td>\n",
       "      <td>11.0</td>\n",
       "      <td>SINGLE_FAMILY</td>\n",
       "      <td>45.488228</td>\n",
       "      <td>2724.0</td>\n",
       "      <td>-122.444420</td>\n",
       "      <td>9583.0</td>\n",
       "      <td>2021-06-04</td>\n",
       "      <td>512000</td>\n",
       "      <td>188.0</td>\n",
       "      <td>1995.0</td>\n",
       "      <td>397560.0</td>\n",
       "      <td>2020-01-01</td>\n",
       "      <td>https://www.zillow.com/homedetails/1121-SW-10t...</td>\n",
       "      <td>1982-01-01</td>\n",
       "    </tr>\n",
       "    <tr>\n",
       "      <th>2</th>\n",
       "      <td>19309 NE Glisan St</td>\n",
       "      <td>Portland</td>\n",
       "      <td>97230</td>\n",
       "      <td>1.0</td>\n",
       "      <td>3.0</td>\n",
       "      <td>11.0</td>\n",
       "      <td>SINGLE_FAMILY</td>\n",
       "      <td>45.526634</td>\n",
       "      <td>1217.0</td>\n",
       "      <td>-122.464088</td>\n",
       "      <td>13939.0</td>\n",
       "      <td>2021-06-04</td>\n",
       "      <td>348000</td>\n",
       "      <td>286.0</td>\n",
       "      <td>1695.0</td>\n",
       "      <td>269520.0</td>\n",
       "      <td>2017-01-01</td>\n",
       "      <td>https://www.zillow.com/homedetails/19309-NE-Gl...</td>\n",
       "      <td>1953-01-01</td>\n",
       "    </tr>\n",
       "    <tr>\n",
       "      <th>3</th>\n",
       "      <td>1518 SE 12th St</td>\n",
       "      <td>Gresham</td>\n",
       "      <td>97080</td>\n",
       "      <td>2.0</td>\n",
       "      <td>3.0</td>\n",
       "      <td>14.0</td>\n",
       "      <td>SINGLE_FAMILY</td>\n",
       "      <td>45.487991</td>\n",
       "      <td>1150.0</td>\n",
       "      <td>-122.416184</td>\n",
       "      <td>7000.0</td>\n",
       "      <td>2021-06-01</td>\n",
       "      <td>404200</td>\n",
       "      <td>351.0</td>\n",
       "      <td>1800.0</td>\n",
       "      <td>309260.0</td>\n",
       "      <td>2020-01-01</td>\n",
       "      <td>https://www.zillow.com/homedetails/1518-SE-12t...</td>\n",
       "      <td>1967-01-01</td>\n",
       "    </tr>\n",
       "    <tr>\n",
       "      <th>4</th>\n",
       "      <td>110 NW Willowbrook Ct</td>\n",
       "      <td>Gresham</td>\n",
       "      <td>97030</td>\n",
       "      <td>2.0</td>\n",
       "      <td>3.0</td>\n",
       "      <td>25.0</td>\n",
       "      <td>SINGLE_FAMILY</td>\n",
       "      <td>45.498184</td>\n",
       "      <td>2036.0</td>\n",
       "      <td>-122.451332</td>\n",
       "      <td>6969.0</td>\n",
       "      <td>2021-05-21</td>\n",
       "      <td>478200</td>\n",
       "      <td>235.0</td>\n",
       "      <td>2250.0</td>\n",
       "      <td>373030.0</td>\n",
       "      <td>2020-01-01</td>\n",
       "      <td>https://www.zillow.com/homedetails/110-NW-Will...</td>\n",
       "      <td>1978-01-01</td>\n",
       "    </tr>\n",
       "  </tbody>\n",
       "</table>\n",
       "</div>"
      ],
      "text/plain": [
       "                   Address      City  Zipcode  bathrooms  bedrooms  \\\n",
       "0  2860 NE Blossom Hill Rd  Fairview    97024        3.0       3.0   \n",
       "1          1121 SW 10th Dr   Gresham    97080        3.0       4.0   \n",
       "2       19309 NE Glisan St  Portland    97230        1.0       3.0   \n",
       "3          1518 SE 12th St   Gresham    97080        2.0       3.0   \n",
       "4    110 NW Willowbrook Ct   Gresham    97030        2.0       3.0   \n",
       "\n",
       "   daysOnZillow       homeType   latitude  livingArea   longitude  lotSize  \\\n",
       "0          25.0      TOWNHOUSE  45.543571      1806.0 -122.441765   1555.0   \n",
       "1          11.0  SINGLE_FAMILY  45.488228      2724.0 -122.444420   9583.0   \n",
       "2          11.0  SINGLE_FAMILY  45.526634      1217.0 -122.464088  13939.0   \n",
       "3          14.0  SINGLE_FAMILY  45.487991      1150.0 -122.416184   7000.0   \n",
       "4          25.0  SINGLE_FAMILY  45.498184      2036.0 -122.451332   6969.0   \n",
       "\n",
       "    date_sold   price  pricePerSquareFoot  rentZestimate  taxAssessedValue  \\\n",
       "0  2021-05-21  315400               175.0         1950.0          273960.0   \n",
       "1  2021-06-04  512000               188.0         1995.0          397560.0   \n",
       "2  2021-06-04  348000               286.0         1695.0          269520.0   \n",
       "3  2021-06-01  404200               351.0         1800.0          309260.0   \n",
       "4  2021-05-21  478200               235.0         2250.0          373030.0   \n",
       "\n",
       "  taxAssessedYear                                                url  \\\n",
       "0      2020-01-01  https://www.zillow.com/homedetails/2860-NE-Blo...   \n",
       "1      2020-01-01  https://www.zillow.com/homedetails/1121-SW-10t...   \n",
       "2      2017-01-01  https://www.zillow.com/homedetails/19309-NE-Gl...   \n",
       "3      2020-01-01  https://www.zillow.com/homedetails/1518-SE-12t...   \n",
       "4      2020-01-01  https://www.zillow.com/homedetails/110-NW-Will...   \n",
       "\n",
       "    yearBuilt  \n",
       "0  2007-01-01  \n",
       "1  1982-01-01  \n",
       "2  1953-01-01  \n",
       "3  1967-01-01  \n",
       "4  1978-01-01  "
      ]
     },
     "execution_count": 3,
     "metadata": {},
     "output_type": "execute_result"
    }
   ],
   "source": [
    "file_path = \"Resources/cleaned_zillow.csv\"\n",
    "zlw = pd.read_csv(file_path)\n",
    "zlw.head()"
   ]
  },
  {
   "cell_type": "code",
   "execution_count": 4,
   "id": "dc123ada",
   "metadata": {},
   "outputs": [
    {
     "name": "stdout",
     "output_type": "stream",
     "text": [
      "['Address', 'City', 'Zipcode', 'bathrooms', 'bedrooms', 'daysOnZillow', 'homeType', 'latitude', 'livingArea', 'longitude', 'lotSize', 'date_sold', 'price', 'pricePerSquareFoot', 'rentZestimate', 'taxAssessedValue', 'taxAssessedYear', 'url', 'yearBuilt']\n"
     ]
    }
   ],
   "source": [
    "cols = zlw.columns.to_list()\n",
    "print(cols)"
   ]
  },
  {
   "cell_type": "code",
   "execution_count": 5,
   "id": "6cd7de79",
   "metadata": {},
   "outputs": [
    {
     "data": {
      "text/html": [
       "<div>\n",
       "<style scoped>\n",
       "    .dataframe tbody tr th:only-of-type {\n",
       "        vertical-align: middle;\n",
       "    }\n",
       "\n",
       "    .dataframe tbody tr th {\n",
       "        vertical-align: top;\n",
       "    }\n",
       "\n",
       "    .dataframe thead th {\n",
       "        text-align: right;\n",
       "    }\n",
       "</style>\n",
       "<table border=\"1\" class=\"dataframe\">\n",
       "  <thead>\n",
       "    <tr style=\"text-align: right;\">\n",
       "      <th></th>\n",
       "      <th>City</th>\n",
       "      <th>Zipcode</th>\n",
       "      <th>bathrooms</th>\n",
       "      <th>bedrooms</th>\n",
       "      <th>daysOnZillow</th>\n",
       "      <th>homeType</th>\n",
       "      <th>livingArea</th>\n",
       "      <th>lotSize</th>\n",
       "      <th>price</th>\n",
       "      <th>pricePerSquareFoot</th>\n",
       "      <th>taxAssessedValue</th>\n",
       "      <th>taxAssessedYear</th>\n",
       "      <th>yearBuilt</th>\n",
       "    </tr>\n",
       "  </thead>\n",
       "  <tbody>\n",
       "    <tr>\n",
       "      <th>0</th>\n",
       "      <td>Fairview</td>\n",
       "      <td>97024</td>\n",
       "      <td>3.0</td>\n",
       "      <td>3.0</td>\n",
       "      <td>25.0</td>\n",
       "      <td>TOWNHOUSE</td>\n",
       "      <td>1806.0</td>\n",
       "      <td>1555.0</td>\n",
       "      <td>315400</td>\n",
       "      <td>175.0</td>\n",
       "      <td>273960.0</td>\n",
       "      <td>2020-01-01</td>\n",
       "      <td>2007-01-01</td>\n",
       "    </tr>\n",
       "    <tr>\n",
       "      <th>1</th>\n",
       "      <td>Gresham</td>\n",
       "      <td>97080</td>\n",
       "      <td>3.0</td>\n",
       "      <td>4.0</td>\n",
       "      <td>11.0</td>\n",
       "      <td>SINGLE_FAMILY</td>\n",
       "      <td>2724.0</td>\n",
       "      <td>9583.0</td>\n",
       "      <td>512000</td>\n",
       "      <td>188.0</td>\n",
       "      <td>397560.0</td>\n",
       "      <td>2020-01-01</td>\n",
       "      <td>1982-01-01</td>\n",
       "    </tr>\n",
       "    <tr>\n",
       "      <th>2</th>\n",
       "      <td>Portland</td>\n",
       "      <td>97230</td>\n",
       "      <td>1.0</td>\n",
       "      <td>3.0</td>\n",
       "      <td>11.0</td>\n",
       "      <td>SINGLE_FAMILY</td>\n",
       "      <td>1217.0</td>\n",
       "      <td>13939.0</td>\n",
       "      <td>348000</td>\n",
       "      <td>286.0</td>\n",
       "      <td>269520.0</td>\n",
       "      <td>2017-01-01</td>\n",
       "      <td>1953-01-01</td>\n",
       "    </tr>\n",
       "    <tr>\n",
       "      <th>3</th>\n",
       "      <td>Gresham</td>\n",
       "      <td>97080</td>\n",
       "      <td>2.0</td>\n",
       "      <td>3.0</td>\n",
       "      <td>14.0</td>\n",
       "      <td>SINGLE_FAMILY</td>\n",
       "      <td>1150.0</td>\n",
       "      <td>7000.0</td>\n",
       "      <td>404200</td>\n",
       "      <td>351.0</td>\n",
       "      <td>309260.0</td>\n",
       "      <td>2020-01-01</td>\n",
       "      <td>1967-01-01</td>\n",
       "    </tr>\n",
       "    <tr>\n",
       "      <th>4</th>\n",
       "      <td>Gresham</td>\n",
       "      <td>97030</td>\n",
       "      <td>2.0</td>\n",
       "      <td>3.0</td>\n",
       "      <td>25.0</td>\n",
       "      <td>SINGLE_FAMILY</td>\n",
       "      <td>2036.0</td>\n",
       "      <td>6969.0</td>\n",
       "      <td>478200</td>\n",
       "      <td>235.0</td>\n",
       "      <td>373030.0</td>\n",
       "      <td>2020-01-01</td>\n",
       "      <td>1978-01-01</td>\n",
       "    </tr>\n",
       "  </tbody>\n",
       "</table>\n",
       "</div>"
      ],
      "text/plain": [
       "       City  Zipcode  bathrooms  bedrooms  daysOnZillow       homeType  \\\n",
       "0  Fairview    97024        3.0       3.0          25.0      TOWNHOUSE   \n",
       "1   Gresham    97080        3.0       4.0          11.0  SINGLE_FAMILY   \n",
       "2  Portland    97230        1.0       3.0          11.0  SINGLE_FAMILY   \n",
       "3   Gresham    97080        2.0       3.0          14.0  SINGLE_FAMILY   \n",
       "4   Gresham    97030        2.0       3.0          25.0  SINGLE_FAMILY   \n",
       "\n",
       "   livingArea  lotSize   price  pricePerSquareFoot  taxAssessedValue  \\\n",
       "0      1806.0   1555.0  315400               175.0          273960.0   \n",
       "1      2724.0   9583.0  512000               188.0          397560.0   \n",
       "2      1217.0  13939.0  348000               286.0          269520.0   \n",
       "3      1150.0   7000.0  404200               351.0          309260.0   \n",
       "4      2036.0   6969.0  478200               235.0          373030.0   \n",
       "\n",
       "  taxAssessedYear   yearBuilt  \n",
       "0      2020-01-01  2007-01-01  \n",
       "1      2020-01-01  1982-01-01  \n",
       "2      2017-01-01  1953-01-01  \n",
       "3      2020-01-01  1967-01-01  \n",
       "4      2020-01-01  1978-01-01  "
      ]
     },
     "execution_count": 5,
     "metadata": {},
     "output_type": "execute_result"
    }
   ],
   "source": [
    "# drop columns not needed for machine learning\n",
    "zlw = zlw.drop(['Address', 'date_sold', 'url', 'rentZestimate', 'latitude', 'longitude'], axis=1)\n",
    "zlw.head()"
   ]
  },
  {
   "cell_type": "code",
   "execution_count": 6,
   "id": "e621ecf2",
   "metadata": {},
   "outputs": [
    {
     "data": {
      "text/plain": [
       "array([[<AxesSubplot:title={'center':'Zipcode'}>,\n",
       "        <AxesSubplot:title={'center':'bathrooms'}>,\n",
       "        <AxesSubplot:title={'center':'bedrooms'}>],\n",
       "       [<AxesSubplot:title={'center':'daysOnZillow'}>,\n",
       "        <AxesSubplot:title={'center':'livingArea'}>,\n",
       "        <AxesSubplot:title={'center':'lotSize'}>],\n",
       "       [<AxesSubplot:title={'center':'price'}>,\n",
       "        <AxesSubplot:title={'center':'pricePerSquareFoot'}>,\n",
       "        <AxesSubplot:title={'center':'taxAssessedValue'}>]], dtype=object)"
      ]
     },
     "execution_count": 6,
     "metadata": {},
     "output_type": "execute_result"
    },
    {
     "data": {
      "image/png": "[encoded data removed]",
      "text/plain": [
       "<Figure size 1440x1440 with 9 Axes>"
      ]
     },
     "metadata": {
      "needs_background": "light"
     },
     "output_type": "display_data"
    }
   ],
   "source": [
    "# view the initial, unfiltered dataset\n",
    "zlw.hist(figsize=(20,20), xrot=-45)"
   ]
  },
  {
   "cell_type": "code",
   "execution_count": 7,
   "id": "24a1c070",
   "metadata": {},
   "outputs": [
    {
     "data": {
      "text/html": [
       "<div>\n",
       "<style scoped>\n",
       "    .dataframe tbody tr th:only-of-type {\n",
       "        vertical-align: middle;\n",
       "    }\n",
       "\n",
       "    .dataframe tbody tr th {\n",
       "        vertical-align: top;\n",
       "    }\n",
       "\n",
       "    .dataframe thead th {\n",
       "        text-align: right;\n",
       "    }\n",
       "</style>\n",
       "<table border=\"1\" class=\"dataframe\">\n",
       "  <thead>\n",
       "    <tr style=\"text-align: right;\">\n",
       "      <th></th>\n",
       "      <th>Zipcode</th>\n",
       "      <th>bathrooms</th>\n",
       "      <th>bedrooms</th>\n",
       "      <th>daysOnZillow</th>\n",
       "      <th>livingArea</th>\n",
       "      <th>lotSize</th>\n",
       "      <th>price</th>\n",
       "      <th>pricePerSquareFoot</th>\n",
       "      <th>taxAssessedValue</th>\n",
       "    </tr>\n",
       "  </thead>\n",
       "  <tbody>\n",
       "    <tr>\n",
       "      <th>count</th>\n",
       "      <td>18265.000000</td>\n",
       "      <td>18265.000000</td>\n",
       "      <td>18265.000000</td>\n",
       "      <td>18265.000000</td>\n",
       "      <td>18265.000000</td>\n",
       "      <td>18265.000000</td>\n",
       "      <td>1.826500e+04</td>\n",
       "      <td>18265.000000</td>\n",
       "      <td>1.826500e+04</td>\n",
       "    </tr>\n",
       "    <tr>\n",
       "      <th>mean</th>\n",
       "      <td>97148.242431</td>\n",
       "      <td>2.460827</td>\n",
       "      <td>3.368191</td>\n",
       "      <td>187.579250</td>\n",
       "      <td>2078.627922</td>\n",
       "      <td>6852.924884</td>\n",
       "      <td>5.496832e+05</td>\n",
       "      <td>275.870298</td>\n",
       "      <td>4.636757e+05</td>\n",
       "    </tr>\n",
       "    <tr>\n",
       "      <th>std</th>\n",
       "      <td>86.271481</td>\n",
       "      <td>0.814036</td>\n",
       "      <td>0.769367</td>\n",
       "      <td>112.751753</td>\n",
       "      <td>765.683850</td>\n",
       "      <td>3171.615991</td>\n",
       "      <td>2.242703e+05</td>\n",
       "      <td>85.691069</td>\n",
       "      <td>1.899900e+05</td>\n",
       "    </tr>\n",
       "    <tr>\n",
       "      <th>min</th>\n",
       "      <td>97003.000000</td>\n",
       "      <td>1.000000</td>\n",
       "      <td>2.000000</td>\n",
       "      <td>1.000000</td>\n",
       "      <td>528.000000</td>\n",
       "      <td>421.000000</td>\n",
       "      <td>3.000000e+02</td>\n",
       "      <td>0.000000</td>\n",
       "      <td>9.500000e+02</td>\n",
       "    </tr>\n",
       "    <tr>\n",
       "      <th>25%</th>\n",
       "      <td>97062.000000</td>\n",
       "      <td>2.000000</td>\n",
       "      <td>3.000000</td>\n",
       "      <td>82.000000</td>\n",
       "      <td>1498.000000</td>\n",
       "      <td>4791.000000</td>\n",
       "      <td>4.100000e+05</td>\n",
       "      <td>225.000000</td>\n",
       "      <td>3.449300e+05</td>\n",
       "    </tr>\n",
       "    <tr>\n",
       "      <th>50%</th>\n",
       "      <td>97203.000000</td>\n",
       "      <td>3.000000</td>\n",
       "      <td>3.000000</td>\n",
       "      <td>192.000000</td>\n",
       "      <td>1978.000000</td>\n",
       "      <td>6534.000000</td>\n",
       "      <td>5.170000e+05</td>\n",
       "      <td>264.000000</td>\n",
       "      <td>4.260800e+05</td>\n",
       "    </tr>\n",
       "    <tr>\n",
       "      <th>75%</th>\n",
       "      <td>97221.000000</td>\n",
       "      <td>3.000000</td>\n",
       "      <td>4.000000</td>\n",
       "      <td>293.000000</td>\n",
       "      <td>2561.000000</td>\n",
       "      <td>8712.000000</td>\n",
       "      <td>6.335000e+05</td>\n",
       "      <td>313.000000</td>\n",
       "      <td>5.393100e+05</td>\n",
       "    </tr>\n",
       "    <tr>\n",
       "      <th>max</th>\n",
       "      <td>97267.000000</td>\n",
       "      <td>4.500000</td>\n",
       "      <td>5.000000</td>\n",
       "      <td>364.000000</td>\n",
       "      <td>4540.000000</td>\n",
       "      <td>17800.000000</td>\n",
       "      <td>4.000000e+06</td>\n",
       "      <td>2019.000000</td>\n",
       "      <td>4.008660e+06</td>\n",
       "    </tr>\n",
       "  </tbody>\n",
       "</table>\n",
       "</div>"
      ],
      "text/plain": [
       "            Zipcode     bathrooms      bedrooms  daysOnZillow    livingArea  \\\n",
       "count  18265.000000  18265.000000  18265.000000  18265.000000  18265.000000   \n",
       "mean   97148.242431      2.460827      3.368191    187.579250   2078.627922   \n",
       "std       86.271481      0.814036      0.769367    112.751753    765.683850   \n",
       "min    97003.000000      1.000000      2.000000      1.000000    528.000000   \n",
       "25%    97062.000000      2.000000      3.000000     82.000000   1498.000000   \n",
       "50%    97203.000000      3.000000      3.000000    192.000000   1978.000000   \n",
       "75%    97221.000000      3.000000      4.000000    293.000000   2561.000000   \n",
       "max    97267.000000      4.500000      5.000000    364.000000   4540.000000   \n",
       "\n",
       "            lotSize         price  pricePerSquareFoot  taxAssessedValue  \n",
       "count  18265.000000  1.826500e+04        18265.000000      1.826500e+04  \n",
       "mean    6852.924884  5.496832e+05          275.870298      4.636757e+05  \n",
       "std     3171.615991  2.242703e+05           85.691069      1.899900e+05  \n",
       "min      421.000000  3.000000e+02            0.000000      9.500000e+02  \n",
       "25%     4791.000000  4.100000e+05          225.000000      3.449300e+05  \n",
       "50%     6534.000000  5.170000e+05          264.000000      4.260800e+05  \n",
       "75%     8712.000000  6.335000e+05          313.000000      5.393100e+05  \n",
       "max    17800.000000  4.000000e+06         2019.000000      4.008660e+06  "
      ]
     },
     "execution_count": 7,
     "metadata": {},
     "output_type": "execute_result"
    }
   ],
   "source": [
    "zlw.describe()"
   ]
  },
  {
   "cell_type": "code",
   "execution_count": 8,
   "id": "0c040622",
   "metadata": {},
   "outputs": [
    {
     "data": {
      "text/plain": [
       "City                   object\n",
       "Zipcode                 int64\n",
       "bathrooms             float64\n",
       "bedrooms              float64\n",
       "daysOnZillow          float64\n",
       "homeType               object\n",
       "livingArea            float64\n",
       "lotSize               float64\n",
       "price                   int64\n",
       "pricePerSquareFoot    float64\n",
       "taxAssessedValue      float64\n",
       "taxAssessedYear        object\n",
       "yearBuilt              object\n",
       "dtype: object"
      ]
     },
     "execution_count": 8,
     "metadata": {},
     "output_type": "execute_result"
    }
   ],
   "source": [
    "zlw.dtypes"
   ]
  },
  {
   "cell_type": "code",
   "execution_count": 9,
   "id": "62610156",
   "metadata": {},
   "outputs": [],
   "source": [
    "# set tax year and built year to float64 year only"
   ]
  },
  {
   "cell_type": "markdown",
   "id": "1f70c3aa",
   "metadata": {},
   "source": [
    "#### Check for missing/duplicate/unnecessary data"
   ]
  },
  {
   "cell_type": "code",
   "execution_count": 10,
   "id": "8f984514",
   "metadata": {},
   "outputs": [
    {
     "name": "stdout",
     "output_type": "stream",
     "text": [
      "Column City has 18265 rows.\n",
      "Column Zipcode has 18265 rows.\n",
      "Column bathrooms has 18265 rows.\n",
      "Column bedrooms has 18265 rows.\n",
      "Column daysOnZillow has 18265 rows.\n",
      "Column homeType has 18265 rows.\n",
      "Column livingArea has 18265 rows.\n",
      "Column lotSize has 18265 rows.\n",
      "Column price has 18265 rows.\n",
      "Column pricePerSquareFoot has 18265 rows.\n",
      "Column taxAssessedValue has 18265 rows.\n",
      "Column taxAssessedYear has 18265 rows.\n",
      "Column yearBuilt has 18265 rows.\n"
     ]
    }
   ],
   "source": [
    "for col in zlw.columns:\n",
    "    print(f\"Column {col} has {zlw[col].count()} rows.\")"
   ]
  },
  {
   "cell_type": "code",
   "execution_count": 11,
   "id": "44c551e0",
   "metadata": {},
   "outputs": [
    {
     "name": "stdout",
     "output_type": "stream",
     "text": [
      "Column City has 0 null values.\n",
      "Column Zipcode has 0 null values.\n",
      "Column bathrooms has 0 null values.\n",
      "Column bedrooms has 0 null values.\n",
      "Column daysOnZillow has 0 null values.\n",
      "Column homeType has 0 null values.\n",
      "Column livingArea has 0 null values.\n",
      "Column lotSize has 0 null values.\n",
      "Column price has 0 null values.\n",
      "Column pricePerSquareFoot has 0 null values.\n",
      "Column taxAssessedValue has 0 null values.\n",
      "Column taxAssessedYear has 0 null values.\n",
      "Column yearBuilt has 0 null values.\n"
     ]
    }
   ],
   "source": [
    "# Check for missing data \n",
    "# loop through null values\n",
    "for col in zlw.columns:\n",
    "    print(f\"Column {col} has {zlw[col].isnull().sum()} null values.\")"
   ]
  },
  {
   "cell_type": "code",
   "execution_count": 12,
   "id": "02755538",
   "metadata": {},
   "outputs": [
    {
     "name": "stdout",
     "output_type": "stream",
     "text": [
      "There are 0 duplicate rows.\n"
     ]
    }
   ],
   "source": [
    "# check for duplicate data\n",
    "print(f\"There are {zlw.duplicated().sum()} duplicate rows.\")"
   ]
  },
  {
   "cell_type": "code",
   "execution_count": 13,
   "id": "54afbcbf",
   "metadata": {},
   "outputs": [
    {
     "data": {
      "text/plain": [
       "City                   object\n",
       "Zipcode                 int64\n",
       "bathrooms             float64\n",
       "bedrooms              float64\n",
       "daysOnZillow          float64\n",
       "homeType               object\n",
       "livingArea            float64\n",
       "lotSize               float64\n",
       "price                   int64\n",
       "pricePerSquareFoot    float64\n",
       "taxAssessedValue      float64\n",
       "taxAssessedYear        object\n",
       "yearBuilt              object\n",
       "dtype: object"
      ]
     },
     "execution_count": 13,
     "metadata": {},
     "output_type": "execute_result"
    }
   ],
   "source": [
    "zlw.dtypes"
   ]
  },
  {
   "cell_type": "markdown",
   "id": "c4e53907",
   "metadata": {},
   "source": [
    "## Begin Machine Learning"
   ]
  },
  {
   "cell_type": "markdown",
   "id": "34d96667",
   "metadata": {},
   "source": [
    "#### Processing\n",
    "For data processing, the focus is on making sure the data is set up for the unsupervised learning model, which requires the following:\n",
    "* Null values are handled.\n",
    "* Only numerical data is used.\n",
    "* Values are scaled. In other words, data has been manipulated to ensure that the variance between the numbers won't skew results."
   ]
  },
  {
   "cell_type": "code",
   "execution_count": 14,
   "id": "65ccae2e",
   "metadata": {},
   "outputs": [],
   "source": [
    "#reference site for ML: https://towardsdatascience.com/predict-house-prices-with-machine-learning-5b475db4e1e\n",
    "\n",
    "import numpy as np\n",
    "import pandas as pd\n",
    "import matplotlib.pyplot as plt\n",
    "import matplotlib\n",
    "%matplotlib inline\n",
    "import seaborn as sb\n",
    "\n",
    "from sklearn.linear_model import LinearRegression, Ridge, Lasso, ElasticNet, Lars, LassoLars, OrthogonalMatchingPursuit, BayesianRidge, ARDRegression, SGDRegressor, PassiveAggressiveRegressor, RANSACRegressor, HuberRegressor\n",
    "from sklearn.ensemble import RandomForestRegressor, GradientBoostingRegressor, AdaBoostRegressor, ExtraTreesRegressor\n",
    "from sklearn.model_selection import train_test_split\n",
    "from sklearn.pipeline import make_pipeline\n",
    "from sklearn.kernel_ridge import KernelRidge\n",
    "from sklearn.preprocessing import StandardScaler\n",
    "from sklearn import svm, datasets, metrics\n",
    "from sklearn.svm import SVR, NuSVR, LinearSVR\n",
    "from sklearn.neighbors import RadiusNeighborsRegressor, KNeighborsRegressor\n",
    "from sklearn.gaussian_process import GaussianProcessRegressor\n",
    "from sklearn.gaussian_process.kernels import RBF, ConstantKernel, DotProduct, WhiteKernel\n",
    "from sklearn.neural_network import MLPRegressor\n",
    "from sklearn.model_selection import GridSearchCV\n",
    "\n",
    "import pickle"
   ]
  },
  {
   "cell_type": "markdown",
   "id": "f526e53a",
   "metadata": {},
   "source": [
    "### Numerical Features"
   ]
  },
  {
   "cell_type": "code",
   "execution_count": null,
   "id": "98e2c990",
   "metadata": {},
   "outputs": [],
   "source": [
    "# split into numerical dataset here\n",
    "zlw_num=zlw.drop(columns=['City',\n",
    "                          #'Zipcode',\n",
    "                          #'bathrooms',\n",
    "                          #'bedrooms',\n",
    "                          #'daysOnZillow',\n",
    "                          'homeType',\n",
    "                          #'livingArea',\n",
    "                          #'lotSize',\n",
    "                          #'price',\n",
    "                          #'pricePerSquareFoot',\n",
    "                          #'taxAssessedValue',\n",
    "                         ])\n",
    "zlw_num.dtypes"
   ]
  },
  {
   "cell_type": "code",
   "execution_count": null,
   "id": "716fdcbc",
   "metadata": {},
   "outputs": [],
   "source": [
    "zlw_num.head()"
   ]
  },
  {
   "cell_type": "code",
   "execution_count": null,
   "id": "9cd30486",
   "metadata": {},
   "outputs": [],
   "source": [
    "# visualize the data\n",
    "zlw_num.hist(figsize=(20,20), xrot=-45)"
   ]
  },
  {
   "cell_type": "code",
   "execution_count": null,
   "id": "5e277450",
   "metadata": {},
   "outputs": [],
   "source": [
    "# view distribution of the target variable (price)\n",
    "sb.violinplot(data=zlw_num, x='price')\n",
    "print(f\"The median house price is ${(zlw_num.price.median()):,.2f}.\")"
   ]
  },
  {
   "cell_type": "code",
   "execution_count": null,
   "id": "647c858b",
   "metadata": {},
   "outputs": [],
   "source": [
    "# view distribution of the lot size variable to check for outliers\n",
    "sb.violinplot(data=zlw_num, x='lotSize')\n",
    "print(f\"The median lot size is {(zlw_num.lotSize.median()):.0f} sqft.\")\n",
    "print(f\"The maximum lot size is {(zlw_num.lotSize.max()):.0f} sqft.\")\n",
    "print(f\"The minimum lot size is {(zlw_num.lotSize.min()):.0f} sqft.\")"
   ]
  },
  {
   "cell_type": "code",
   "execution_count": null,
   "id": "d9e03e1c",
   "metadata": {},
   "outputs": [],
   "source": [
    "#correlation heatmap\n",
    "# mask out upper triangle\n",
    "mask = np.zeros_like(zlw_num.corr(), dtype=np.bool_)\n",
    "mask[np.triu_indices_from(mask)] = True\n",
    "\n",
    "# heatmap\n",
    "sb.heatmap(zlw_num.corr()*100, \n",
    "           cmap='RdBu_r', \n",
    "           annot = True, \n",
    "           mask = mask)"
   ]
  },
  {
   "cell_type": "markdown",
   "id": "3ad06533",
   "metadata": {},
   "source": [
    "### Categorical Features"
   ]
  },
  {
   "cell_type": "code",
   "execution_count": null,
   "id": "99570f23",
   "metadata": {},
   "outputs": [],
   "source": [
    "zlw.dtypes[zlw.dtypes=='object']"
   ]
  },
  {
   "cell_type": "code",
   "execution_count": null,
   "id": "7ac59429",
   "metadata": {},
   "outputs": [],
   "source": [
    "# split into categorical dataset\n",
    "# dro address and url b/c they do not have an impact on ML\n",
    "zlw_cat=zlw.drop(columns=[#'City',\n",
    "                          'Zipcode',\n",
    "                          'bathrooms',\n",
    "                          'bedrooms',\n",
    "                          'daysOnZillow',\n",
    "                          #'homeType',\n",
    "                          'livingArea',\n",
    "                          'lotSize',\n",
    "                          'price',\n",
    "                          'pricePerSquareFoot',\n",
    "                          'taxAssessedValue',\n",
    "                         ])\n",
    "zlw_cat.dtypes"
   ]
  },
  {
   "cell_type": "code",
   "execution_count": null,
   "id": "854d8bb4",
   "metadata": {},
   "outputs": [],
   "source": [
    "print(zlw.City.value_counts())\n",
    "print(zlw.homeType.value_counts())\n",
    "print(zlw.taxAssessedYear.value_counts())\n",
    "print(zlw.yearBuilt.value_counts())"
   ]
  },
  {
   "cell_type": "code",
   "execution_count": 32,
   "id": "a25634ec",
   "metadata": {},
   "outputs": [
    {
     "ename": "KeyError",
     "evalue": "\"['City', 'homeType'] not in index\"",
     "output_type": "error",
     "traceback": [
      "\u001b[0;31m---------------------------------------------------------------------------\u001b[0m",
      "\u001b[0;31mKeyError\u001b[0m                                  Traceback (most recent call last)",
      "\u001b[0;32m/var/folders/d6/5t3zhs390sz9f_x80q_mw8wh0000gn/T/ipykernel_64185/2228986521.py\u001b[0m in \u001b[0;36m<module>\u001b[0;34m\u001b[0m\n\u001b[1;32m      1\u001b[0m \u001b[0;31m# hot encode categorical data\u001b[0m\u001b[0;34m\u001b[0m\u001b[0;34m\u001b[0m\u001b[0;34m\u001b[0m\u001b[0m\n\u001b[0;32m----> 2\u001b[0;31m \u001b[0mzlw\u001b[0m \u001b[0;34m=\u001b[0m \u001b[0mpd\u001b[0m\u001b[0;34m.\u001b[0m\u001b[0mget_dummies\u001b[0m\u001b[0;34m(\u001b[0m\u001b[0mzlw\u001b[0m\u001b[0;34m,\u001b[0m \u001b[0mcolumns\u001b[0m \u001b[0;34m=\u001b[0m \u001b[0;34m[\u001b[0m\u001b[0;34m'City'\u001b[0m\u001b[0;34m,\u001b[0m \u001b[0;34m'homeType'\u001b[0m\u001b[0;34m,\u001b[0m \u001b[0;34m'taxAssessedYear'\u001b[0m\u001b[0;34m,\u001b[0m \u001b[0;34m'yearBuilt'\u001b[0m\u001b[0;34m]\u001b[0m\u001b[0;34m)\u001b[0m\u001b[0;34m\u001b[0m\u001b[0;34m\u001b[0m\u001b[0m\n\u001b[0m\u001b[1;32m      3\u001b[0m \u001b[0mzlw\u001b[0m\u001b[0;34m.\u001b[0m\u001b[0mhead\u001b[0m\u001b[0;34m(\u001b[0m\u001b[0;34m)\u001b[0m\u001b[0;34m\u001b[0m\u001b[0;34m\u001b[0m\u001b[0m\n",
      "\u001b[0;32m~/opt/anaconda3/envs/mlenv/lib/python3.7/site-packages/pandas/core/reshape/reshape.py\u001b[0m in \u001b[0;36mget_dummies\u001b[0;34m(data, prefix, prefix_sep, dummy_na, columns, sparse, drop_first, dtype)\u001b[0m\n\u001b[1;32m    888\u001b[0m             \u001b[0;32mraise\u001b[0m \u001b[0mTypeError\u001b[0m\u001b[0;34m(\u001b[0m\u001b[0;34m\"Input must be a list-like for parameter `columns`\"\u001b[0m\u001b[0;34m)\u001b[0m\u001b[0;34m\u001b[0m\u001b[0;34m\u001b[0m\u001b[0m\n\u001b[1;32m    889\u001b[0m         \u001b[0;32melse\u001b[0m\u001b[0;34m:\u001b[0m\u001b[0;34m\u001b[0m\u001b[0;34m\u001b[0m\u001b[0m\n\u001b[0;32m--> 890\u001b[0;31m             \u001b[0mdata_to_encode\u001b[0m \u001b[0;34m=\u001b[0m \u001b[0mdata\u001b[0m\u001b[0;34m[\u001b[0m\u001b[0mcolumns\u001b[0m\u001b[0;34m]\u001b[0m\u001b[0;34m\u001b[0m\u001b[0;34m\u001b[0m\u001b[0m\n\u001b[0m\u001b[1;32m    891\u001b[0m \u001b[0;34m\u001b[0m\u001b[0m\n\u001b[1;32m    892\u001b[0m         \u001b[0;31m# validate prefixes and separator to avoid silently dropping cols\u001b[0m\u001b[0;34m\u001b[0m\u001b[0;34m\u001b[0m\u001b[0;34m\u001b[0m\u001b[0m\n",
      "\u001b[0;32m~/opt/anaconda3/envs/mlenv/lib/python3.7/site-packages/pandas/core/frame.py\u001b[0m in \u001b[0;36m__getitem__\u001b[0;34m(self, key)\u001b[0m\n\u001b[1;32m   3462\u001b[0m             \u001b[0;32mif\u001b[0m \u001b[0mis_iterator\u001b[0m\u001b[0;34m(\u001b[0m\u001b[0mkey\u001b[0m\u001b[0;34m)\u001b[0m\u001b[0;34m:\u001b[0m\u001b[0;34m\u001b[0m\u001b[0;34m\u001b[0m\u001b[0m\n\u001b[1;32m   3463\u001b[0m                 \u001b[0mkey\u001b[0m \u001b[0;34m=\u001b[0m \u001b[0mlist\u001b[0m\u001b[0;34m(\u001b[0m\u001b[0mkey\u001b[0m\u001b[0;34m)\u001b[0m\u001b[0;34m\u001b[0m\u001b[0;34m\u001b[0m\u001b[0m\n\u001b[0;32m-> 3464\u001b[0;31m             \u001b[0mindexer\u001b[0m \u001b[0;34m=\u001b[0m \u001b[0mself\u001b[0m\u001b[0;34m.\u001b[0m\u001b[0mloc\u001b[0m\u001b[0;34m.\u001b[0m\u001b[0m_get_listlike_indexer\u001b[0m\u001b[0;34m(\u001b[0m\u001b[0mkey\u001b[0m\u001b[0;34m,\u001b[0m \u001b[0maxis\u001b[0m\u001b[0;34m=\u001b[0m\u001b[0;36m1\u001b[0m\u001b[0;34m)\u001b[0m\u001b[0;34m[\u001b[0m\u001b[0;36m1\u001b[0m\u001b[0;34m]\u001b[0m\u001b[0;34m\u001b[0m\u001b[0;34m\u001b[0m\u001b[0m\n\u001b[0m\u001b[1;32m   3465\u001b[0m \u001b[0;34m\u001b[0m\u001b[0m\n\u001b[1;32m   3466\u001b[0m         \u001b[0;31m# take() does not accept boolean indexers\u001b[0m\u001b[0;34m\u001b[0m\u001b[0;34m\u001b[0m\u001b[0;34m\u001b[0m\u001b[0m\n",
      "\u001b[0;32m~/opt/anaconda3/envs/mlenv/lib/python3.7/site-packages/pandas/core/indexing.py\u001b[0m in \u001b[0;36m_get_listlike_indexer\u001b[0;34m(self, key, axis)\u001b[0m\n\u001b[1;32m   1312\u001b[0m             \u001b[0mkeyarr\u001b[0m\u001b[0;34m,\u001b[0m \u001b[0mindexer\u001b[0m\u001b[0;34m,\u001b[0m \u001b[0mnew_indexer\u001b[0m \u001b[0;34m=\u001b[0m \u001b[0max\u001b[0m\u001b[0;34m.\u001b[0m\u001b[0m_reindex_non_unique\u001b[0m\u001b[0;34m(\u001b[0m\u001b[0mkeyarr\u001b[0m\u001b[0;34m)\u001b[0m\u001b[0;34m\u001b[0m\u001b[0;34m\u001b[0m\u001b[0m\n\u001b[1;32m   1313\u001b[0m \u001b[0;34m\u001b[0m\u001b[0m\n\u001b[0;32m-> 1314\u001b[0;31m         \u001b[0mself\u001b[0m\u001b[0;34m.\u001b[0m\u001b[0m_validate_read_indexer\u001b[0m\u001b[0;34m(\u001b[0m\u001b[0mkeyarr\u001b[0m\u001b[0;34m,\u001b[0m \u001b[0mindexer\u001b[0m\u001b[0;34m,\u001b[0m \u001b[0maxis\u001b[0m\u001b[0;34m)\u001b[0m\u001b[0;34m\u001b[0m\u001b[0;34m\u001b[0m\u001b[0m\n\u001b[0m\u001b[1;32m   1315\u001b[0m \u001b[0;34m\u001b[0m\u001b[0m\n\u001b[1;32m   1316\u001b[0m         if needs_i8_conversion(ax.dtype) or isinstance(\n",
      "\u001b[0;32m~/opt/anaconda3/envs/mlenv/lib/python3.7/site-packages/pandas/core/indexing.py\u001b[0m in \u001b[0;36m_validate_read_indexer\u001b[0;34m(self, key, indexer, axis)\u001b[0m\n\u001b[1;32m   1375\u001b[0m \u001b[0;34m\u001b[0m\u001b[0m\n\u001b[1;32m   1376\u001b[0m             \u001b[0mnot_found\u001b[0m \u001b[0;34m=\u001b[0m \u001b[0mlist\u001b[0m\u001b[0;34m(\u001b[0m\u001b[0mensure_index\u001b[0m\u001b[0;34m(\u001b[0m\u001b[0mkey\u001b[0m\u001b[0;34m)\u001b[0m\u001b[0;34m[\u001b[0m\u001b[0mmissing_mask\u001b[0m\u001b[0;34m.\u001b[0m\u001b[0mnonzero\u001b[0m\u001b[0;34m(\u001b[0m\u001b[0;34m)\u001b[0m\u001b[0;34m[\u001b[0m\u001b[0;36m0\u001b[0m\u001b[0;34m]\u001b[0m\u001b[0;34m]\u001b[0m\u001b[0;34m.\u001b[0m\u001b[0munique\u001b[0m\u001b[0;34m(\u001b[0m\u001b[0;34m)\u001b[0m\u001b[0;34m)\u001b[0m\u001b[0;34m\u001b[0m\u001b[0;34m\u001b[0m\u001b[0m\n\u001b[0;32m-> 1377\u001b[0;31m             \u001b[0;32mraise\u001b[0m \u001b[0mKeyError\u001b[0m\u001b[0;34m(\u001b[0m\u001b[0;34mf\"{not_found} not in index\"\u001b[0m\u001b[0;34m)\u001b[0m\u001b[0;34m\u001b[0m\u001b[0;34m\u001b[0m\u001b[0m\n\u001b[0m\u001b[1;32m   1378\u001b[0m \u001b[0;34m\u001b[0m\u001b[0m\n\u001b[1;32m   1379\u001b[0m \u001b[0;34m\u001b[0m\u001b[0m\n",
      "\u001b[0;31mKeyError\u001b[0m: \"['City', 'homeType'] not in index\""
     ]
    }
   ],
   "source": [
    "# hot encode categorical data\n",
    "zlw = pd.get_dummies(zlw, columns = ['City', 'homeType', 'taxAssessedYear', 'yearBuilt'])\n",
    "zlw.head()"
   ]
  },
  {
   "cell_type": "markdown",
   "id": "e6421b3c",
   "metadata": {},
   "source": [
    "### Model the Data"
   ]
  },
  {
   "cell_type": "code",
   "execution_count": null,
   "id": "772f2192",
   "metadata": {},
   "outputs": [],
   "source": [
    "y = zlw.price\n",
    "X = zlw.drop('price', axis=1)"
   ]
  },
  {
   "cell_type": "code",
   "execution_count": null,
   "id": "9bdf8d4e",
   "metadata": {},
   "outputs": [],
   "source": [
    "# split into testing and training sets\n",
    "X_train, X_test, y_train, y_test = train_test_split(X,y, test_size=0.2, random_state=573)\n",
    "print(X_train.shape)"
   ]
  },
  {
   "cell_type": "code",
   "execution_count": null,
   "id": "a5dbea70",
   "metadata": {},
   "outputs": [],
   "source": [
    "model = LinearRegression()"
   ]
  },
  {
   "cell_type": "code",
   "execution_count": null,
   "id": "c50b55dd",
   "metadata": {},
   "outputs": [],
   "source": [
    "model.fit(X,y)"
   ]
  },
  {
   "cell_type": "code",
   "execution_count": null,
   "id": "f6b1de74",
   "metadata": {},
   "outputs": [],
   "source": [
    "print(f'The intercept is: {model.intercept_}')\n",
    "print(f'The slopes (coefficients for the variables are) are:\\n')\n",
    "coeff_df = pd.DataFrame(model.coef_, X.columns, columns = ['Coefficient'])\n",
    "coeff_df"
   ]
  },
  {
   "cell_type": "code",
   "execution_count": null,
   "id": "3c2b4249",
   "metadata": {},
   "outputs": [],
   "source": [
    "y_pred = model.predict(X_test)"
   ]
  },
  {
   "cell_type": "code",
   "execution_count": null,
   "id": "f9e1fa1b",
   "metadata": {},
   "outputs": [],
   "source": [
    "# compare actual vs predicted\n",
    "regr_df = pd.DataFrame({'Actual':y_test, 'Predicted':y_pred})\n",
    "regr_df"
   ]
  },
  {
   "cell_type": "markdown",
   "id": "22cc1240",
   "metadata": {},
   "source": [
    "#### Determine Error of the model\n",
    "https://medium.com/@amanbamrah/how-to-evaluate-the-accuracy-of-regression-results-b38e5512afd3\n",
    "\n",
    "https://machinelearningmastery.com/regression-metrics-for-machine-learning/\n",
    "\n",
    "There are three error metrics that are commonly used for evaluating and reporting the performance of a regression model; they are:\n",
    "\n",
    "* Mean Squared Error (MSE).\n",
    "* Root Mean Squared Error (RMSE).\n",
    "* Mean Absolute Error (MAE)"
   ]
  },
  {
   "cell_type": "code",
   "execution_count": null,
   "id": "646431f3",
   "metadata": {},
   "outputs": [],
   "source": [
    "from sklearn import metrics\n",
    "\n",
    "MAE = metrics.mean_absolute_error(y_test, y_pred)\n",
    "MSE = metrics.mean_squared_error(y_test,y_pred)\n",
    "RMSE = np.sqrt(MSE)\n",
    "\n",
    "print(f'The MAE score is calculated as the average of the absolute error values. The MAE does not give more or less weight to different types of errors and instead the scores increase linearly with increases in error. MAE refers to the magnitude of difference between the prediction of an observation and the true value of that observation.\\n\\nThe mean absolute error for this model is {MAE}.\\n')\n",
    "print(f'The MSE is calculated as the mean or average of the squared differences between predicted and expected target values in a dataset.\\n\\nThe mean squared error for this model is is {MSE}.\\n')\n",
    "print(f'The RMSE is an extension of the mean squared error. Importantly, the square root of the error is calculated, which means that the units of the RMSE are the same as the original units of the target value that is being predicted.The RMSE is essentially the average distance between the predicted value and the actual value.\\n\\nThe root mean squared error for this model is {RMSE}.')"
   ]
  },
  {
   "cell_type": "markdown",
   "id": "937040de",
   "metadata": {},
   "source": [
    "Evaluating regression metrics: https://www.statology.org/how-to-interpret-rmse/\n",
    "\n",
    "Evaluation of regression metrics are dependent on the dataset. In this case, it is reasonable to assume that an RMSE of 48276 (meaning that predicted price is off by $48,276 on average) results in a relatively accurate model. "
   ]
  },
  {
   "cell_type": "code",
   "execution_count": null,
   "id": "732a0d29",
   "metadata": {},
   "outputs": [],
   "source": [
    "#Notes: try w & w/o zestimate to see difference"
   ]
  }
 ],
 "metadata": {
  "kernelspec": {
   "display_name": "mlenv",
   "language": "python",
   "name": "mlenv"
  },
  "language_info": {
   "codemirror_mode": {
    "name": "ipython",
    "version": 3
   },
   "file_extension": ".py",
   "mimetype": "text/x-python",
   "name": "python",
   "nbconvert_exporter": "python",
   "pygments_lexer": "ipython3",
   "version": "3.7.11"
  }
 },
 "nbformat": 4,
 "nbformat_minor": 5
}
