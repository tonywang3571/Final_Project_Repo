{
 "cells": [
  {
   "cell_type": "code",
   "execution_count": null,
   "id": "6ccb0c9d",
   "metadata": {},
   "outputs": [],
   "source": []
  },
  {
   "cell_type": "markdown",
   "id": "1153079c",
   "metadata": {},
   "source": [
    "# Evaluation of Machine Learning Models for Zillow/AirBNB Datasets"
   ]
  },
  {
   "cell_type": "markdown",
   "id": "5236dd70",
   "metadata": {},
   "source": [
    "There are XX parts to this document:\n",
    "1. Comparing models\n",
    "2. Using selected model to make predictions"
   ]
  },
  {
   "cell_type": "markdown",
   "id": "6772edc2",
   "metadata": {},
   "source": [
    "# Section 1 - Comparing Models"
   ]
  },
  {
   "cell_type": "markdown",
   "id": "4ee3970f",
   "metadata": {},
   "source": [
    "### Regression vs Classification Models\n",
    "\n",
    "If conducting supervised learning on these datasets, we will need to use a regression model. The data we are looking at is continuous data, which requires regression mdoeling. Logistic modeling is discreet and would not be applicable for this dataset."
   ]
  },
  {
   "cell_type": "markdown",
   "id": "60ee078f",
   "metadata": {},
   "source": [
    "### Linear Regression vs Random Forest\n",
    "\n",
    "Since our dataset contains some variables that are continuous and some that are categorical, a random forest model may outperform a linear regression model. \n",
    "\n",
    "We will test both a random forest model and linear regression."
   ]
  },
  {
   "cell_type": "markdown",
   "id": "de01ec39",
   "metadata": {},
   "source": [
    "## Prepare the data for the models"
   ]
  },
  {
   "cell_type": "code",
   "execution_count": null,
   "id": "d36ebc09",
   "metadata": {},
   "outputs": [],
   "source": [
    "# import dependencies\n",
    "import pandas as pd\n",
    "import numpy as np\n",
    "from datetime import datetime\n",
    "import seaborn as sb\n",
    "\n",
    "import sqlite3\n",
    "# Python SQL toolkit and Object Relational Mapper\n",
    "import sqlalchemy\n",
    "from sqlalchemy.ext.automap import automap_base\n",
    "from sqlalchemy.orm import Session\n",
    "from sqlalchemy import create_engine, inspect, func\n",
    "\n",
    "#modeling dependencies\n",
    "from sklearn.linear_model import LinearRegression\n",
    "from sklearn.ensemble import RandomForestClassifier\n",
    "from sklearn.preprocessing import LabelEncoder, OneHotEncoder\n",
    "from sklearn.preprocessing import StandardScaler, MinMaxScaler\n",
    "from sklearn.model_selection import train_test_split\n",
    "from sklearn import metrics\n",
    "from sklearn.metrics import confusion_matrix, accuracy_score, classification_report"
   ]
  },
  {
   "cell_type": "code",
   "execution_count": null,
   "id": "4e297be5",
   "metadata": {},
   "outputs": [],
   "source": [
    "# Load the data\n",
    "con_zlw = sqlite3.connect(\"../finalprojectdatabase.db\")\n",
    "zlw = pd.read_sql_query(\"SELECT * from zillow_google\", con_zlw)\n",
    "\n",
    "con_airbnb = sqlite3.connect(\"../finalprojectdatabase.db\")\n",
    "airbnb = pd.read_sql_query(\"SELECT * from arbnb_google\", con_airbnb)"
   ]
  },
  {
   "cell_type": "code",
   "execution_count": null,
   "id": "fcb3f56e",
   "metadata": {},
   "outputs": [],
   "source": [
    "zlw.head()"
   ]
  },
  {
   "cell_type": "code",
   "execution_count": null,
   "id": "d0c054b9",
   "metadata": {},
   "outputs": [],
   "source": [
    "# set address as index\n",
    "zlw = zlw.set_index('google_address', drop=True)\n",
    "print(zlw.columns.to_list())\n",
    "zlw.head()"
   ]
  },
  {
   "cell_type": "code",
   "execution_count": null,
   "id": "fb00ce7e",
   "metadata": {},
   "outputs": [],
   "source": [
    "# drop columns not needed for machine learning\n",
    "zlw = zlw.drop(['Address',\n",
    "                'City',\n",
    "                'Zipcode',\n",
    "                #'bathrooms',\n",
    "                #'bedrooms',\n",
    "                #'daysOnZillow',\n",
    "                #'homeType',\n",
    "                'latitude',\n",
    "                #'livingArea',\n",
    "                'longitude',\n",
    "                #'lotSize',\n",
    "                'date_sold',\n",
    "                #'price',\n",
    "                #'pricePerSquareFoot',\n",
    "                #'rentZestimate',\n",
    "                #'taxAssessedValue',\n",
    "                #'taxAssessedYear',\n",
    "                'url',\n",
    "                #'yearBuilt',\n",
    "                'house_number',\n",
    "                'street_name',\n",
    "                #'google_zip',\n",
    "                #'google_neighborhood',\n",
    "                'lat_lng',\n",
    "                'zipcode_length'], axis=1)\n",
    "zlw.dtypes"
   ]
  },
  {
   "cell_type": "code",
   "execution_count": null,
   "id": "249eaefc",
   "metadata": {},
   "outputs": [],
   "source": [
    "airbnb.head()"
   ]
  },
  {
   "cell_type": "code",
   "execution_count": null,
   "id": "99b4384c",
   "metadata": {},
   "outputs": [],
   "source": [
    "# set address as index\n",
    "airbnb = airbnb.set_index('google_address', drop=True)\n",
    "print(airbnb.columns.to_list())\n",
    "airbnb.head()"
   ]
  },
  {
   "cell_type": "code",
   "execution_count": null,
   "id": "a1d4dbd6",
   "metadata": {},
   "outputs": [],
   "source": [
    "# drop columns not needed for machine learning\n",
    "airbnb = airbnb.drop(['listing_url',\n",
    "                       #'host_response_time',\n",
    "                       #'host_response_rate',\n",
    "                       #'host_acceptance_rate',\n",
    "                       #'host_is_superhost',\n",
    "                       #'host_identity_verified',\n",
    "                       'neighbourhood_cleansed',\n",
    "                       'latitude',\n",
    "                       'longitude',\n",
    "                       #'room_type',\n",
    "                       #'accommodates',\n",
    "                       #'bathrooms',\n",
    "                       #'bedrooms',\n",
    "                       #'beds',\n",
    "                       #'price',\n",
    "                       #'minimum_nights',\n",
    "                       #'maximum_nights',\n",
    "                       #'number_of_reviews_l30d',\n",
    "                       'last_review',\n",
    "                       #'review_scores_rating',\n",
    "                       #'review_scores_accuracy',\n",
    "                       #'review_scores_cleanliness',\n",
    "                       #'review_scores_checkin',\n",
    "                       #'review_scores_communication',\n",
    "                       #'review_scores_location',\n",
    "                       #'review_scores_value',\n",
    "                       #'reviews_per_month',\n",
    "                       'house_number',\n",
    "                       'street_name',\n",
    "                       #'google_zip',\n",
    "                       #'google_neighborhood',\n",
    "                       'lat_lng'], axis=1)\n",
    "airbnb.dtypes"
   ]
  },
  {
   "cell_type": "markdown",
   "id": "9cefad1e",
   "metadata": {},
   "source": [
    "### Test OneHotEncoder vs Label Encoding"
   ]
  },
  {
   "cell_type": "code",
   "execution_count": null,
   "id": "4266825e",
   "metadata": {},
   "outputs": [],
   "source": [
    "le = LabelEncoder()\n",
    "ohe = OneHotEncoder(sparse=False)"
   ]
  },
  {
   "cell_type": "code",
   "execution_count": null,
   "id": "35d11f11",
   "metadata": {},
   "outputs": [],
   "source": [
    "# set columns to check to list"
   ]
  },
  {
   "cell_type": "code",
   "execution_count": null,
   "id": "21afcbe4",
   "metadata": {},
   "outputs": [],
   "source": [
    "zlw_le = zlw.copy()\n",
    "zlw_ohe = zlw.copy()\n",
    "airbnb_le = airbnb.copy()\n",
    "airbnb_ohe = airbnb.copy()"
   ]
  },
  {
   "cell_type": "code",
   "execution_count": null,
   "id": "429afa02",
   "metadata": {},
   "outputs": [],
   "source": [
    "zlw_cat_col = zlw.select_dtypes(include='object').columns\n",
    "airbnb_cat_col = airbnb.select_dtypes(include=['object']).columns"
   ]
  },
  {
   "cell_type": "code",
   "execution_count": null,
   "id": "b998b37d",
   "metadata": {},
   "outputs": [],
   "source": [
    "#Label Encoder\n",
    "for row in zlw_cat_col:\n",
    "    zlw_le[row] = le.fit_transform(zlw_le[row].astype(str))\n",
    "\n",
    "for row in airbnb_cat_col:\n",
    "    airbnb_le[row] = le.fit_transform(airbnb_le[row].astype(str))"
   ]
  },
  {
   "cell_type": "code",
   "execution_count": null,
   "id": "cc723b77",
   "metadata": {},
   "outputs": [],
   "source": [
    "zlw_le.head()"
   ]
  },
  {
   "cell_type": "code",
   "execution_count": null,
   "id": "65dc1cf0",
   "metadata": {},
   "outputs": [],
   "source": [
    "airbnb_le.head()"
   ]
  },
  {
   "cell_type": "code",
   "execution_count": null,
   "id": "62732bb4",
   "metadata": {},
   "outputs": [],
   "source": [
    "#OneHotEncoder - get dummies\n",
    "zlw_dum = pd.get_dummies(zlw_ohe, columns = zlw_cat_col)\n",
    "airbnb_dum = pd.get_dummies(airbnb_ohe, columns = airbnb_cat_col)"
   ]
  },
  {
   "cell_type": "code",
   "execution_count": null,
   "id": "d3e7b30a",
   "metadata": {},
   "outputs": [],
   "source": [
    "zlw_dum.head()"
   ]
  },
  {
   "cell_type": "code",
   "execution_count": null,
   "id": "c23d0030",
   "metadata": {},
   "outputs": [],
   "source": [
    "airbnb_dum.head()"
   ]
  },
  {
   "cell_type": "markdown",
   "id": "47fd6dc0",
   "metadata": {},
   "source": [
    "#### Set variables & perform scaling"
   ]
  },
  {
   "cell_type": "code",
   "execution_count": null,
   "id": "2371341e",
   "metadata": {},
   "outputs": [],
   "source": [
    "std_scaler = StandardScaler()\n",
    "minmax_scaler = MinMaxScaler()"
   ]
  },
  {
   "cell_type": "code",
   "execution_count": null,
   "id": "412a9dd2",
   "metadata": {},
   "outputs": [],
   "source": [
    "\n",
    "# LE\n",
    "y_zlw_le = zlw_le.price\n",
    "X_zlw_le = zlw_le.drop('price', axis=1)\n",
    "\n",
    "y_airbnb_le = airbnb_le.price\n",
    "X_airbnb_le = airbnb_le.drop('price', axis=1)\n",
    "\n",
    "# OHE\n",
    "y_zlw_ohe = zlw_dum.price\n",
    "X_zlw_ohe = zlw_dum.drop('price', axis=1)\n",
    "\n",
    "y_airbnb_ohe = airbnb_dum.price\n",
    "X_airbnb_ohe = airbnb_dum.drop('price', axis=1)"
   ]
  },
  {
   "cell_type": "code",
   "execution_count": null,
   "id": "dcd970a0",
   "metadata": {},
   "outputs": [],
   "source": [
    "# fit and transform the X data - StandardScaler\n",
    "\n",
    "# LE\n",
    "X_zlw_le = std_scaler.fit_transform(X_zlw_le[X_zlw_le.columns].values)\n",
    "X_airbnb_le = std_scaler.fit_transform(X_airbnb_le[X_airbnb_le.columns].values)\n",
    "\n",
    "# OHE\n",
    "X_zlw_ohe[X_zlw_ohe.columns] = std_scaler.fit_transform(X_zlw_ohe[X_zlw_ohe.columns].values)\n",
    "X_airbnb_ohe[X_airbnb_ohe.columns] = std_scaler.fit_transform(X_airbnb_ohe[X_airbnb_ohe.columns].values)"
   ]
  },
  {
   "cell_type": "code",
   "execution_count": null,
   "id": "c7468f9b",
   "metadata": {},
   "outputs": [],
   "source": [
    "# # fit and transform the X data - MinMaxScaler\n",
    "# # LE\n",
    "# X_zlw_le[X_zlw_le.columns] = minmax_scaler.fit_transform(X_zlw_le[X_zlw_le.columns].values)\n",
    "# X_airbnb_le[X_airbnb_le.columns] = minmax_scaler.fit_transform(X_airbnb_le[X_airbnb_le.columns].values)\n",
    "\n",
    "# # OHE\n",
    "# X_zlw_ohe[X_zlw_ohe.columns] = minmax_scaler.fit_transform(X_zlw_ohe[X_zlw_ohe.columns].values)\n",
    "# X_airbnb_ohe[X_airbnb_ohe.columns] = minmax_scaler.fit_transform(X_airbnb_ohe[X_airbnb_ohe.columns].values)"
   ]
  },
  {
   "cell_type": "code",
   "execution_count": null,
   "id": "519e172e",
   "metadata": {},
   "outputs": [],
   "source": [
    "# check the mean (~0) and STD (~1) of standard scaler\n",
    "X_airbnb_ohe.describe()"
   ]
  },
  {
   "cell_type": "code",
   "execution_count": null,
   "id": "880426ce",
   "metadata": {},
   "outputs": [],
   "source": [
    "X_airbnb_ohe.shape"
   ]
  },
  {
   "cell_type": "markdown",
   "id": "137afbe0",
   "metadata": {},
   "source": [
    "#### Split into Testing & Training Data"
   ]
  },
  {
   "cell_type": "code",
   "execution_count": null,
   "id": "779ea202",
   "metadata": {},
   "outputs": [],
   "source": []
  },
  {
   "cell_type": "markdown",
   "id": "efc169ab",
   "metadata": {},
   "source": [
    "## Linear Regression Model\n",
    "See the [Linear Regression Model](./ML_Model_Final.ipynb) for the linear regression."
   ]
  },
  {
   "cell_type": "code",
   "execution_count": null,
   "id": "b04682af",
   "metadata": {},
   "outputs": [],
   "source": []
  },
  {
   "cell_type": "markdown",
   "id": "4dbb93e1",
   "metadata": {},
   "source": [
    "## Random Forest Model"
   ]
  },
  {
   "cell_type": "code",
   "execution_count": null,
   "id": "c19f1d98",
   "metadata": {},
   "outputs": [],
   "source": []
  }
 ],
 "metadata": {
  "celltoolbar": "Raw Cell Format",
  "kernelspec": {
   "display_name": "Python 3 (ipykernel)",
   "language": "python",
   "name": "python3"
  },
  "language_info": {
   "codemirror_mode": {
    "name": "ipython",
    "version": 3
   },
   "file_extension": ".py",
   "mimetype": "text/x-python",
   "name": "python",
   "nbconvert_exporter": "python",
   "pygments_lexer": "ipython3",
   "version": "3.9.9"
  }
 },
 "nbformat": 4,
 "nbformat_minor": 5
}
