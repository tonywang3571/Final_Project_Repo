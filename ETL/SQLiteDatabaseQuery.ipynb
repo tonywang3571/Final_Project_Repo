{
 "cells": [
  {
   "cell_type": "code",
   "execution_count": 1,
   "id": "d797a7c1",
   "metadata": {},
   "outputs": [],
   "source": [
    "# Dependencies\n",
    "import pandas as pd\n",
    "#pd.options.mode.chained_assignment = None  # default='warn'\n",
    "import sqlite3"
   ]
  },
  {
   "cell_type": "markdown",
   "id": "3a6d0d97",
   "metadata": {},
   "source": [
    "# AirBNB DF from SQLite"
   ]
  },
  {
   "cell_type": "code",
   "execution_count": 3,
   "id": "7bf516b4",
   "metadata": {},
   "outputs": [
    {
     "name": "stdout",
     "output_type": "stream",
     "text": [
      "   Unnamed: 0                         listing_url host_response_time  \\\n",
      "0           0  https://www.airbnb.com/rooms/12899     within an hour   \n",
      "1           1  https://www.airbnb.com/rooms/37676       within a day   \n",
      "2           2  https://www.airbnb.com/rooms/41601     within an hour   \n",
      "3           4  https://www.airbnb.com/rooms/61893     within an hour   \n",
      "4           6  https://www.airbnb.com/rooms/67036       within a day   \n",
      "\n",
      "   host_response_rate  host_acceptance_rate  host_is_superhost  \\\n",
      "0               100.0                 100.0                  1   \n",
      "1               100.0                  55.0                  1   \n",
      "2               100.0                 100.0                  1   \n",
      "3               100.0                  73.0                  1   \n",
      "4               100.0                   0.0                  0   \n",
      "\n",
      "   host_identity_verified neighbourhood_cleansed  latitude  longitude  ...  \\\n",
      "0                       0              Concordia  45.56488 -122.63418  ...   \n",
      "1                       1                  Pearl  45.52564 -122.68273  ...   \n",
      "2                       1                Roseway  45.54804 -122.58541  ...   \n",
      "3                       1           Goose Hollow  45.52258 -122.69955  ...   \n",
      "4                       1       Sullivan's Gulch  45.53103 -122.64448  ...   \n",
      "\n",
      "  number_of_reviews_l30d  last_review  review_scores_rating  \\\n",
      "0                      1   2021-11-30                  4.93   \n",
      "1                      1   2021-12-01                  4.88   \n",
      "2                      0   2021-10-13                  4.84   \n",
      "3                      1   2021-12-01                  5.00   \n",
      "4                      0   2020-02-27                  4.93   \n",
      "\n",
      "   review_scores_accuracy  review_scores_cleanliness  review_scores_checkin  \\\n",
      "0                    4.94                       4.98                   4.99   \n",
      "1                    4.86                       4.86                   4.83   \n",
      "2                    4.90                       4.90                   4.95   \n",
      "3                    5.00                       5.00                   4.93   \n",
      "4                    5.00                       5.00                   5.00   \n",
      "\n",
      "   review_scores_communication  review_scores_location  review_scores_value  \\\n",
      "0                         4.99                    4.93                 4.94   \n",
      "1                         4.77                    4.94                 4.66   \n",
      "2                         4.92                    4.67                 4.83   \n",
      "3                         5.00                    5.00                 4.93   \n",
      "4                         5.00                    4.79                 4.89   \n",
      "\n",
      "  reviews_per_month  \n",
      "0              4.08  \n",
      "1              0.91  \n",
      "2              1.76  \n",
      "3              0.24  \n",
      "4              0.23  \n",
      "\n",
      "[5 rows x 28 columns]\n"
     ]
    }
   ],
   "source": [
    "# Read sqlite query results into a pandas DataFrame\n",
    "con = sqlite3.connect(\"airbnb.db\")\n",
    "df = pd.read_sql_query(\"SELECT * from airbnb\", con)\n",
    "\n",
    "# Verify that result of SQL query is stored in the dataframe\n",
    "print(df.head())\n",
    "\n",
    "con.close()"
   ]
  },
  {
   "cell_type": "code",
   "execution_count": null,
   "id": "79103b0a",
   "metadata": {},
   "outputs": [],
   "source": []
  }
 ],
 "metadata": {
  "kernelspec": {
   "display_name": "PythonData",
   "language": "python",
   "name": "pythondata"
  },
  "language_info": {
   "codemirror_mode": {
    "name": "ipython",
    "version": 3
   },
   "file_extension": ".py",
   "mimetype": "text/x-python",
   "name": "python",
   "nbconvert_exporter": "python",
   "pygments_lexer": "ipython3",
   "version": "3.7.11"
  }
 },
 "nbformat": 4,
 "nbformat_minor": 5
}
